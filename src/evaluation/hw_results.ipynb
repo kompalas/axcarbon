{
 "cells": [
  {
   "cell_type": "code",
   "execution_count": 1,
   "metadata": {},
   "outputs": [],
   "source": [
    "import ipywidgets as widgets\n",
    "from IPython.display import display\n",
    "import pandas as pd\n",
    "import os\n",
    "import re\n",
    "import numpy as np\n",
    "from matplotlib import pyplot as plt\n",
    "from functools import partial\n",
    "from src import project_dir\n",
    "from src.nsga2.utils import ErrorMetric, HW_Metric"
   ]
  },
  {
   "cell_type": "code",
   "execution_count": 2,
   "metadata": {},
   "outputs": [],
   "source": [
    "# Define the path to the directory where logs/results are saved\n",
    "results_dir = os.path.join(project_dir, 'saved_logs')\n",
    "# Create a list of directories in the 'saved_logs' folder\n",
    "# This list will only include directories (not files)\n",
    "resdirs = [os.path.join(project_dir, 'saved_logs', d)\n",
    "           for d in os.listdir(results_dir) if os.path.isdir(os.path.join(results_dir, d))]"
   ]
  },
  {
   "cell_type": "code",
   "execution_count": 3,
   "metadata": {},
   "outputs": [
    {
     "data": {
      "application/vnd.jupyter.widget-view+json": {
       "model_id": "e90c5afa821e47f09aed85cd38c2d17d",
       "version_major": 2,
       "version_minor": 0
      },
      "text/plain": [
       "VBox(children=(HTML(value='', description='Choose all the directories from which results are gathered:', style…"
      ]
     },
     "metadata": {},
     "output_type": "display_data"
    },
    {
     "data": {
      "application/vnd.jupyter.widget-view+json": {
       "model_id": "972131cb5cc34761aba5ffe066258b24",
       "version_major": 2,
       "version_minor": 0
      },
      "text/plain": [
       "Output()"
      ]
     },
     "metadata": {},
     "output_type": "display_data"
    }
   ],
   "source": [
    "# Initialize an empty dictionary to hold checkboxes for each directory\n",
    "checkboxes = {}\n",
    "# Loop through each directory and create a checkbox widget for it\n",
    "for directory in resdirs:\n",
    "    checkboxes[directory] = widgets.Checkbox(\n",
    "        value=False,  # Set the initial checkbox value to False (unchecked)\n",
    "        disabled=False,  # The checkbox is not disabled, so it can be interacted with\n",
    "        description=os.path.basename(directory),  # The label for the checkbox is the directory name\n",
    "        layout=widgets.Layout(width='500px')  # Set the width of the checkbox widget\n",
    "    )\n",
    "\n",
    "# Initialize an empty list to store selected directories\n",
    "selected_directories = []\n",
    "# Define a function that will update the list of selected directories based on checkbox values\n",
    "def select_directories(**kwargs):\n",
    "    selected_directories.clear()  # Clear the list of previously selected directories\n",
    "    for key in kwargs:\n",
    "        if kwargs[key] is True:  # If the checkbox for a directory is checked\n",
    "            selected_directories.append(key)  # Add the directory to the selected list\n",
    "\n",
    "# Create an interactive output widget to update selected directories based on user input\n",
    "out = widgets.interactive_output(select_directories, checkboxes)\n",
    "\n",
    "# Create a header HTML widget to provide instructions to the user\n",
    "header = widgets.HTML(\n",
    "    description=\"Choose all the directories from which results are gathered:\",  # Instruction text\n",
    "    value=\"\",  # The value is empty since it's just an instruction\n",
    "    style={'description_width': 'initial'}  # Style to make the description width dynamic\n",
    ")\n",
    "# Combine the header and checkboxes into a vertical box layout\n",
    "dir_checkboxes = widgets.VBox([header, *checkboxes.values()])\n",
    "\n",
    "# Display the checkboxes and the interactive output\n",
    "display(dir_checkboxes, out)"
   ]
  },
  {
   "cell_type": "code",
   "execution_count": 4,
   "metadata": {},
   "outputs": [
    {
     "name": "stdout",
     "output_type": "stream",
     "text": [
      "['/home/balaskas/axcarbon/saved_logs/ga_mac14nm___2024.09.04-10.15.49.764', '/home/balaskas/axcarbon/saved_logs/ga_mac28nm___2024.09.04-10.04.02.089', '/home/balaskas/axcarbon/saved_logs/ga_mac7nm___2024.09.04-10.24.07.997']\n"
     ]
    }
   ],
   "source": [
    "print(selected_directories)"
   ]
  },
  {
   "cell_type": "code",
   "execution_count": 6,
   "metadata": {},
   "outputs": [
    {
     "data": {
      "application/vnd.jupyter.widget-view+json": {
       "model_id": "8ee6b36ac7f14f10a40f500707acbeb7",
       "version_major": 2,
       "version_minor": 0
      },
      "text/plain": [
       "VBox(children=(HBox(children=(RadioButtons(options=(<ErrorMetric.ErrorRate: 0>, <ErrorMetric.MRE: 1>, <ErrorMe…"
      ]
     },
     "metadata": {},
     "output_type": "display_data"
    }
   ],
   "source": [
    "# Function to plot multiple graphs side by side for comparison\n",
    "def plot_side_by_side(directories, hw_metric, error_metric):\n",
    "    # Ensure 'directories' is a list, even if a single directory is provided\n",
    "    if not isinstance(directories, list):\n",
    "        directories = [directories]\n",
    "\n",
    "    # Create a figure with subplots arranged in a single row\n",
    "    fig, axes = plt.subplots(nrows=1,\n",
    "                             ncols=len(directories),\n",
    "                             figsize=(6*len(directories), 4))  # Set the size of the figure\n",
    "    if not isinstance(axes, np.ndarray):\n",
    "        axes = [axes]\n",
    "    # Generate distinct colors for each directory to use in the plots\n",
    "    colors = plt.cm.rainbow(np.linspace(0, 1, len(directories)))\n",
    "\n",
    "    for ax, color, directory in zip(axes, colors, directories):\n",
    "        # Construct the path to the CSV file containing evaluation results\n",
    "        csv_file = os.path.join(directory, 'eval_results.csv')\n",
    "        # Extract x and y data from the CSV file based on the specified metrics\n",
    "        x, y = get_xy_data(csv_file, x_metric=error_metric, y_metric=hw_metric)\n",
    "\n",
    "        # Set labels for the x and y axes based on the metrics\n",
    "        ax.set_xlabel(error_metric.name)\n",
    "        ax.set_ylabel(hw_metric.name)\n",
    "        # Plot the data on the current subplot\n",
    "        ax.plot(x, y,\n",
    "                marker='x', linestyle='--',\n",
    "                label=re.search('([\\d]+nm)', os.path.basename(directory)).group(1),  # Use part of the directory name as the label\n",
    "                c=color)  # Set the color of the plot\n",
    "        ax.grid(visible=True, which='major', axis='both', alpha=0.75)\n",
    "        ax.grid(visible=True, which='minor', axis='both', alpha=0.25)\n",
    "\n",
    "    fig.legend()\n",
    "\n",
    "# Function to read data from a CSV file and return the x and y arrays for plotting\n",
    "def get_xy_data(csv_file, x_metric, y_metric):\n",
    "    df = pd.read_csv(csv_file)\n",
    "    return df[x_metric.name].to_numpy(), df[y_metric.name].to_numpy()\n",
    "\n",
    "# Create widgets for selecting the hardware and error metrics\n",
    "hw_metric_widget = widgets.RadioButtons(options=[metric for metric in HW_Metric])\n",
    "error_metric_widget = widgets.RadioButtons(options=[metric for metric in ErrorMetric])\n",
    "# Create a partial function of 'plot_side_by_side' with the directories argument fixed\n",
    "plot_f = partial(plot_side_by_side, directories=selected_directories)\n",
    "# Create an interactive output widget that updates when the metric selections change\n",
    "out = widgets.interactive_output(plot_f, {'hw_metric': hw_metric_widget,\n",
    "                                          'error_metric': error_metric_widget})\n",
    "# Arrange the metric selection widgets and the output plot vertically\n",
    "w = widgets.VBox([widgets.HBox([error_metric_widget, hw_metric_widget]), out])\n",
    "\n",
    "# Display the combined widget box\n",
    "display(w)"
   ]
  },
  {
   "cell_type": "code",
   "execution_count": 7,
   "metadata": {},
   "outputs": [
    {
     "data": {
      "application/vnd.jupyter.widget-view+json": {
       "model_id": "3be80eaffb1d489db53ba8eec723c96a",
       "version_major": 2,
       "version_minor": 0
      },
      "text/plain": [
       "VBox(children=(HBox(children=(RadioButtons(options=(<ErrorMetric.ErrorRate: 0>, <ErrorMetric.MRE: 1>, <ErrorMe…"
      ]
     },
     "metadata": {},
     "output_type": "display_data"
    }
   ],
   "source": [
    "# Function to plot multiple datasets on the same axes for comparison\n",
    "def plot_together(directories, hw_metric, error_metric):\n",
    "    # Ensure 'directories' is a list, even if a single directory is provided\n",
    "    if not isinstance(directories, list):\n",
    "        directories = [directories]\n",
    "\n",
    "    fig, ax = plt.subplots(figsize=(6, 4))  # Set the size of the figure\n",
    "    # Generate distinct colors for each directory to use in the plot\n",
    "    colors = plt.cm.rainbow(np.linspace(0, 1, len(directories)))\n",
    "\n",
    "    # Loop through each directory and its corresponding color\n",
    "    for color, directory in zip(colors, directories):\n",
    "        # Construct the path to the CSV file containing evaluation results\n",
    "        csv_file = os.path.join(directory, 'eval_results.csv')\n",
    "        # Extract x and y data from the CSV file based on the specified metrics\n",
    "        x, y = get_xy_data(csv_file, x_metric=error_metric, y_metric=hw_metric)\n",
    "\n",
    "        # Set labels for the x and y axes based on the metrics\n",
    "        ax.set_xlabel(error_metric.name)\n",
    "        ax.set_ylabel(hw_metric.name)\n",
    "        # Plot the data on the same axis\n",
    "        ax.plot(x, y,\n",
    "                marker='x', linestyle='--',\n",
    "                label=re.search('([\\d]+nm)', os.path.basename(directory)).group(1),  # Use part of the directory name as the label\n",
    "                c=color)  # Set the color of the plot\n",
    "        ax.grid(visible=True, which='major', axis='both', alpha=0.75)\n",
    "        ax.grid(visible=True, which='minor', axis='both', alpha=0.25)\n",
    "\n",
    "    fig.legend()\n",
    "\n",
    "# Function to read data from a CSV file and return the x and y arrays for plotting\n",
    "def get_xy_data(csv_file, x_metric, y_metric):\n",
    "    df = pd.read_csv(csv_file)\n",
    "    return df[x_metric.name].to_numpy(), df[y_metric.name].to_numpy()\n",
    "\n",
    "# Create widgets for selecting the hardware and error metrics\n",
    "hw_metric_widget = widgets.RadioButtons(options=[metric for metric in HW_Metric])\n",
    "error_metric_widget = widgets.RadioButtons(options=[metric for metric in ErrorMetric])\n",
    "# Create a partial function of 'plot_together' with the directories argument fixed\n",
    "plot_f = partial(plot_together, directories=selected_directories)\n",
    "# Create an interactive output widget that updates when the metric selections change\n",
    "out = widgets.interactive_output(plot_f, {'hw_metric': hw_metric_widget,\n",
    "                                          'error_metric': error_metric_widget})\n",
    "# Arrange the metric selection widgets and the output plot vertically\n",
    "w = widgets.VBox([widgets.HBox([error_metric_widget, hw_metric_widget]), out])\n",
    "\n",
    "# Display the combined widget box\n",
    "display(w)"
   ]
  }
 ],
 "metadata": {
  "kernelspec": {
   "display_name": "Python 3 (ipykernel)",
   "language": "python",
   "name": "python3"
  },
  "language_info": {
   "codemirror_mode": {
    "name": "ipython",
    "version": 3
   },
   "file_extension": ".py",
   "mimetype": "text/x-python",
   "name": "python",
   "nbconvert_exporter": "python",
   "pygments_lexer": "ipython3",
   "version": "3.10.14"
  }
 },
 "nbformat": 4,
 "nbformat_minor": 4
}
